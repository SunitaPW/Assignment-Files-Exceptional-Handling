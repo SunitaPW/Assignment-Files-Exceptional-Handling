{
  "nbformat": 4,
  "nbformat_minor": 0,
  "metadata": {
    "colab": {
      "provenance": []
    },
    "kernelspec": {
      "name": "python3",
      "display_name": "Python 3"
    },
    "language_info": {
      "name": "python"
    }
  },
  "cells": [
    {
      "cell_type": "markdown",
      "source": [
        "# ***Practical Question and Answers of Assignment : Files & Exceptional Handling***"
      ],
      "metadata": {
        "id": "aC81XY9vIEyL"
      }
    },
    {
      "cell_type": "markdown",
      "source": [
        "# Q3) Explain what multiprocessing is and why it is used in Python programs.\n",
        "\n",
        "\n"
      ],
      "metadata": {
        "id": "usir0LS4256m"
      }
    },
    {
      "cell_type": "markdown",
      "source": [
        "# Answer\n",
        "\n",
        "## Multiprocessing :-\n",
        "Multiple core/processors are there, and each process has it's own memory space and resources (data/variable/executable program) which are isolated from other process.\n",
        "\n",
        "Multiprocessing runs truly parallel on multiple CPU coress/processor. This dosen't have GIL(Global Interpreter lock)\n",
        "\n",
        "Use Case for Multiprocessing :- It is suitable for tasks that are independent and which can run isolation,\n",
        "\n",
        "Example :- Any Computation, Server Handling, Multiple request simentensoly.\n",
        "\n",
        "\n",
        "## Why Multiprocessing is Used in Python Programs is explained below :-\n",
        "\n",
        "- 1) By Enhancing Performance for CPU-bound Tasks through parallel execution and scalability :-\n",
        "\n",
        "- - Parallel Execution: Multiprocessing enables the execution of multiple CPU-bound tasks in parallel. Each process can run on a different CPU core, leading to improved performance for tasks that involve heavy computation, such as numerical simulations, data processing, and machine learning.\n",
        "\n",
        "- - Scalability: As the number of CPU cores increases, multiprocessing can scale to utilize additional cores, enhancing the performance of compute-intensive applications.\n",
        "\n",
        "- 2) Bypassing the (GIL):- GIL Limitation: Python's Global Interpreter Lock (GIL) is a mutex that protects access to Python objects, preventing multiple native threads from executing Python bytecodes simultaneously. This can be a bottleneck for CPU-bound tasks, as it restricts the execution of threads to one at a time within a single process.\n",
        "\n",
        "- 3) Efficient Resource Management by resource utilization and task management :-\n",
        "\n",
        "- - Resource Utilization: Multiprocessing allows the program to efficiently use system resources by running tasks in parallel, thereby improving the overall efficiency and throughput of the application.\n",
        "\n",
        "- - Task Management: Multiprocessing frameworks often provide mechanisms for managing and distributing tasks among processes, ensuring that system resources are used optimally.\n",
        "\n",
        "- 4) Simplified Parallel Task Execution :- Python's multiprocessing module provides a simple and high-level interface for creating and managing multiple processes. It includes features like process pools, queues, and pipes to facilitate parallel execution and inter-process communication."
      ],
      "metadata": {
        "id": "WTGIpTAy3lT8"
      }
    },
    {
      "cell_type": "code",
      "execution_count": 2,
      "metadata": {
        "id": "24ZnLzwJH42k",
        "colab": {
          "base_uri": "https://localhost:8080/"
        },
        "outputId": "2a94d9b2-3c9a-428a-8912-5e1907ec8919"
      },
      "outputs": [
        {
          "output_type": "stream",
          "name": "stdout",
          "text": [
            "Do something\n",
            "Sleep for 1 second\n",
            "Done with sleeping\n",
            "Do something\n",
            "Sleep for 1 second\n",
            "Done with sleeping\n",
            "The program finished in 2.0 seconds\n"
          ]
        }
      ],
      "source": [
        "# Example of Multiprocessing:-\n",
        "\n",
        "# import time and metion the start time code\n",
        "\n",
        "import time\n",
        "\n",
        "start = time.perf_counter()\n",
        "\n",
        "\n",
        "# Make a \"def function\" of test_func()\n",
        "\n",
        "def test_func():\n",
        "    print(\"Do something\")\n",
        "    print(\"Sleep for 1 second\")\n",
        "\n",
        "    # Mention the time sleep code for 1 second :-\n",
        "    time.sleep(1)\n",
        "    print(\"Done with sleeping\")\n",
        "\n",
        "\n",
        "# Call the def function \"test_func\" ---> 2 times :-\n",
        "test_func()\n",
        "test_func()\n",
        "\n",
        "\n",
        "# Mention the end time code :-\n",
        "end = time.perf_counter()\n",
        "\n",
        "# Print the statement with f\" string and code {round(end-start, 2)} :-\n",
        "print(f\"The program finished in {round(end - start, 2)} seconds\")"
      ]
    },
    {
      "cell_type": "markdown",
      "source": [
        "# Q4) Write a Python program using multithreading where one thread adds numbers to a list, and another thread removes numbers from the list. Implement a mechanism to avoid race conditions using threading.Lock."
      ],
      "metadata": {
        "id": "VXXQ9A7K6HzK"
      }
    },
    {
      "cell_type": "markdown",
      "source": [
        "# Answer :-"
      ],
      "metadata": {
        "id": "M6AHbr5v_J0A"
      }
    },
    {
      "cell_type": "code",
      "source": [
        "# Importing the threading, time and random for the task :-\n",
        "import threading\n",
        "import time\n",
        "import random\n",
        "\n",
        "\n",
        "# Using Shared list and lock for threading.lock()\n",
        "shared_list = []\n",
        "lock = threading.Lock()\n",
        "\n",
        "\n",
        "# Creating def functions to add_numbers in range with the use of for with :-\n",
        "def add_numbers():\n",
        "    for i in range(5):\n",
        "        with lock:\n",
        "            number_to_add = random.randint(1, 100)\n",
        "            shared_list.append(number_to_add)\n",
        "            print(f\"Added {number_to_add}: {shared_list}\")\n",
        "\n",
        "        # Now, here simulate some work with sleep :-\n",
        "        time.sleep(random.uniform(0.1, 0.3))\n",
        "\n",
        "\n",
        "# Creating another def functions to remove_numbers in range with the use of for with :-\n",
        "def remove_numbers():\n",
        "    for i in range(5):\n",
        "        with lock:\n",
        "            if shared_list:\n",
        "                number_to_remove = shared_list.pop(0)\n",
        "                print(f\"Removed {number_to_remove}: {shared_list}\")\n",
        "            else:\n",
        "                print(\"List is empty, nothing to remove\")\n",
        "\n",
        "        # Now, here simulate some work with sleep :-\n",
        "        time.sleep(random.uniform(0.1, 0.3))\n",
        "\n",
        "\n",
        "# Now, Creating main def function :-\n",
        "def main():\n",
        "    # Creating and start threads\n",
        "    thread_add = threading.Thread(target = add_numbers)\n",
        "    thread_remove = threading.Thread(target = remove_numbers)\n",
        "    thread_add.start()\n",
        "    thread_remove.start()\n",
        "\n",
        "    # Making threads to finish\n",
        "    thread_add.join()\n",
        "    thread_remove.join()\n",
        "\n",
        "    print(\"Final state of the list:\", shared_list)\n",
        "\n",
        "if __name__ == \"__main__\":\n",
        "    main()"
      ],
      "metadata": {
        "colab": {
          "base_uri": "https://localhost:8080/"
        },
        "id": "F0ZrIbn18cBt",
        "outputId": "7eaf51a3-7970-4bbb-ce07-02ed414f6db3"
      },
      "execution_count": 4,
      "outputs": [
        {
          "output_type": "stream",
          "name": "stdout",
          "text": [
            "Added 78: [78]\n",
            "Removed 78: []\n",
            "List is empty, nothing to remove\n",
            "Added 35: [35]\n",
            "Removed 35: []\n",
            "Added 80: [80]\n",
            "Added 5: [80, 5]\n",
            "Removed 80: [5]\n",
            "Added 16: [5, 16]\n",
            "Removed 5: [16]\n",
            "Final state of the list: [16]\n"
          ]
        }
      ]
    },
    {
      "cell_type": "markdown",
      "source": [
        "# Q5) Describe the methods and tools available in Python for safely sharing data between threads and processes."
      ],
      "metadata": {
        "id": "XljGYG4c-ij5"
      }
    },
    {
      "cell_type": "markdown",
      "source": [
        "# Answer :-\n",
        "\n",
        "## Two ways to describe the methods and tools available Python for safely sharing data between threads and processes are :-\n",
        "\n",
        "### 1) Threading :- We can use \"Lock\", \"RLock\", \"Condition\", and \"Event\" from the threading module for thread synchronization. These are explained below :-\n",
        "\n",
        "- - \"Lock\" ---> **threading.Lock** :- A basic synchronization primitive that prevents multiple threads from executing a critical section of code simultaneously. It ensures that only one thread can acquire the lock at a time.\n",
        "\n",
        "- - \"Rlock\" / (Reentrant Locks) ---> **threading.RLock** :- Similar to Lock, but allows a thread to acquire the same lock multiple times. Useful when the same thread needs to enter the critical section multiple times.\n",
        "\n",
        "- - \"Condition Variables\" ---> **threading.Condition** :- Allows threads to wait until a certain condition is met. Useful for more complex thread coordination.\n",
        "\n",
        "- - \"Event Objects\" ---> **threading.Event** :- Used for simple signaling between threads. One thread can set the event to signal other threads.\n",
        "\n",
        "### 2) Multiprocessing :- We can use \"Lock\", \"Queue\", \"Pipe\", and \"Manager\" from the multiprocessing module for process synchronization and communication. These are explained below :-\n",
        "\n",
        "- - \"Locks\" ---> **multiprocessing.Lock** :- Similar to threading.Lock, but designed for use with processes. It prevents multiple processes from entering a critical section simultaneously.\n",
        "\n",
        "- - \"Queues\" ---> **multiprocessing.Queue** :- A process-safe queue for inter-process communication. It allows processes to safely exchange data.\n",
        "\n",
        "- - \"Pipes\" ---> **multiprocessing.Pipe** :- Provides a two-way communication channel between processes. One end of the pipe is used for sending data, while the other end is used for receiving data.\n",
        "\n",
        "- - \"Managers\" ---> **multiprocessing.Manager** :- Provides a way to create shared objects (like lists, dictionaries, etc.) that can be safely used by multiple processes.\n",
        "\n",
        "## Below are usage example for both method Threading and Multiprocessing :-\n",
        "\n"
      ],
      "metadata": {
        "id": "Vpwhm6Cw_p74"
      }
    },
    {
      "cell_type": "markdown",
      "source": [
        "### Threading Usage Example :-"
      ],
      "metadata": {
        "id": "ln2qBLFhEceW"
      }
    },
    {
      "cell_type": "code",
      "source": [
        "# Usage Example of Threading \"Lock\" :-\n",
        "\n",
        "# Importing threading to perform task :-\n",
        "import threading\n",
        "\n",
        "lock = threading.Lock()\n",
        "\n",
        "# Creating def function :-\n",
        "def thread_safe_function():\n",
        "    with lock:\n",
        "        print(\"Thread is using the shared resource.\")\n",
        "        pass\n"
      ],
      "metadata": {
        "id": "y6oiYI_u8iK3"
      },
      "execution_count": 6,
      "outputs": []
    },
    {
      "cell_type": "code",
      "source": [
        "# Usage Example of Threading \"RLock\" :-\n",
        "\n",
        "rlock = threading.RLock()\n",
        "\n",
        "# Creating def function for reentrant_function :-\n",
        "def reentrant_function():\n",
        "    with rlock:\n",
        "        print(\"Thread is using the shared resource.\")\n",
        "        pass\n"
      ],
      "metadata": {
        "id": "NFUQE8cYC6ja"
      },
      "execution_count": 7,
      "outputs": []
    },
    {
      "cell_type": "code",
      "source": [
        "# Usage Example of Threading \"Condition\" :-\n",
        "\n",
        "\n",
        "condition = threading.Condition()\n",
        "\n",
        "\n",
        "# Creating def function for wait_for_condition :-\n",
        "def wait_for_condition():\n",
        "    with condition:\n",
        "        condition.wait()\n",
        "\n",
        "# Creating a def function to notify the condition :-\n",
        "def notify_condition():\n",
        "    with condition:\n",
        "        condition.notify()\n"
      ],
      "metadata": {
        "id": "cPo965heDZxs"
      },
      "execution_count": 8,
      "outputs": []
    },
    {
      "cell_type": "code",
      "source": [
        "# Usage Example of Threading \"Event\" :-\n",
        "\n",
        "# Taking event as a variable for threading.event :-\n",
        "event = threading.Event()\n",
        "\n",
        "# Creating def function to wait for event :-\n",
        "def wait_for_event():\n",
        "  # Block until the event is set and proceed when event is set\n",
        "    event.wait()\n",
        "\n",
        "\n",
        "# Again creating def function to set event :-\n",
        "def set_event():\n",
        "    event.set()\n"
      ],
      "metadata": {
        "id": "G0dgXNpfD5vs"
      },
      "execution_count": null,
      "outputs": []
    },
    {
      "cell_type": "markdown",
      "source": [
        "### Multiprocessing Usage Example :-"
      ],
      "metadata": {
        "id": "cJWBS7x3EiV2"
      }
    },
    {
      "cell_type": "code",
      "source": [
        "# Usage Example of Multiprocessing \"Lock\" :-\n",
        "\n",
        "# Importing lock from multiprocessing to perform task :-\n",
        "from multiprocessing import Lock\n",
        "\n",
        "lock = Lock()\n",
        "\n",
        "\n",
        "# Creating def function :-\n",
        "def process_safe_function():\n",
        "    with lock:\n",
        "        print(\"Process is using the shared resource.\")\n",
        "        pass\n"
      ],
      "metadata": {
        "id": "Qvb3TOxtEpVv"
      },
      "execution_count": 9,
      "outputs": []
    },
    {
      "cell_type": "code",
      "source": [
        "# Usage Example of Multiprocessing \"Queues\" :-\n",
        "\n",
        "\n",
        "# Importing Queue from multiprocessing :-\n",
        "from multiprocessing import Queue\n",
        "\n",
        "\n",
        "queue = Queue()\n",
        "\n",
        "# Craeted def function for producer :-\n",
        "def producer():\n",
        "    queue.put(item)  # Add item to the queue to perform\n",
        "\n",
        "\n",
        "# Again created def function for consumer :-\n",
        "def consumer():\n",
        "    item = queue.get()  # Retrieve item from the queue\n"
      ],
      "metadata": {
        "id": "HKObfnW_GSlO"
      },
      "execution_count": null,
      "outputs": []
    },
    {
      "cell_type": "code",
      "source": [
        "# Usage Example of Multiprocessing \"Pipe\" :-\n",
        "\n",
        "\n",
        "# Importing pipe from multiprocessing :-\n",
        "from multiprocessing import Pipe\n",
        "\n",
        "\n",
        "parent_conn, child_conn = Pipe()\n",
        "\n",
        "# Craeted def function for sender :-\n",
        "def sender():\n",
        "    parent_conn.send(data)  # Here, you need to send data through the pipe\n",
        "\n",
        "\n",
        "# Again, Craeted def function for receiver :-\n",
        "def receiver():\n",
        "    data = child_conn.recv()  # Here, Receive data from the pipe\n"
      ],
      "metadata": {
        "id": "K6sRnl8aG8yS"
      },
      "execution_count": null,
      "outputs": []
    },
    {
      "cell_type": "code",
      "source": [
        "# Usage Example of Multiprocessing \"Manager\" :-\n",
        "\n",
        "# Importing manager from multiprocessing :-\n",
        "from multiprocessing import Manager\n",
        "\n",
        "manager = Manager()\n",
        "shared_list = manager.list()\n",
        "\n",
        "# Creating def function\n",
        "def process_function():\n",
        "    shared_list.append(item)  # Here, you can modify the list item\n"
      ],
      "metadata": {
        "id": "YwaCeWD9HQfZ"
      },
      "execution_count": null,
      "outputs": []
    },
    {
      "cell_type": "markdown",
      "source": [
        "# Q6)  Discuss why it’s crucial to handle exceptions in concurrent programs and the techniques available for doing so."
      ],
      "metadata": {
        "id": "rfWkwe15IL3p"
      }
    },
    {
      "cell_type": "markdown",
      "source": [
        "# Answer :-\n",
        "\n",
        "## It crucial to handle exceptions in concurrent programs and the techniques available for doing so because due to the inherent complexities of managing multiple threads or processes running simultaneously.\n",
        "\n",
        "## Importance of Exception Handling in Concurrent Programs :-\n",
        "\n",
        "- Error Isolation: In concurrent programs, exceptions in one thread or process can affect others if not handled properly. Proper exception handling ensures that one thread's failure doesn't cause the entire program to crash.\n",
        "\n",
        "- Resource Management: Concurrent programs often involve shared resources (e.g., files, network connections). If exceptions are not handled correctly, it can lead to resource leaks or inconsistent states, affecting the stability and performance of the program.\n",
        "\n",
        "- Debugging and Maintenance: Exception handling improves the ability to diagnose and fix issues. Without it, it may be challenging to pinpoint the cause of a failure in a multithreaded or multiprocess environment.\n",
        "\n",
        "- User Experience: For applications with a user interface or external dependencies, unhandled exceptions can lead to crashes or unresponsiveness, negatively impacting the user experience.\n",
        "\n",
        "\n",
        "## There are 5 Techniques for Handling Exceptions in Concurrent Programs explained below :-\n",
        "\n",
        "- 1) Try-Except Blocks ----> Thread-Level Handling :- Use try-except blocks within each thread to catch exceptions specific to that thread's execution.\n",
        "\n",
        "- 2) Exception Propagation ----> Thread-Level Exception Propagation :- Capture exceptions within threads and propagate them back to the main thread if needed. This can be done by using a queue to send exceptions from the worker thread to the main thread.\n",
        "\n",
        "- 3) Using concurrent.futures ----> Futures and Exception Handling :- The concurrent.futures module provides a higher-level interface for managing threads or processes. Futures allow you to handle exceptions more gracefully using the result() method, which can re-raise exceptions from the worker thread.\n",
        "\n",
        "- 4) Process-Level Handling ----> Using multiprocessing :- For processes, exception handling can be done within each process similarly to threads. You can use queues or other inter-process communication methods to report exceptions to the main process.\n",
        "\n",
        "- 5) Synchronization and Coordination ----> Locks and Synchronization :- When handling exceptions, ensure that resources are properly synchronized. Use locks or other synchronization primitives to avoid race conditions or data corruption."
      ],
      "metadata": {
        "id": "GDrRd3z9Iqmn"
      }
    },
    {
      "cell_type": "markdown",
      "source": [
        "## Examples of techniques:-"
      ],
      "metadata": {
        "id": "BzH4t_90LA0X"
      }
    },
    {
      "cell_type": "code",
      "source": [
        "# Example of Try and except technique :-\n",
        "\n",
        "# Importing threading :-\n",
        "import threading\n",
        "\n",
        "\n",
        "# created def function for worker and used try and except technique\n",
        "def worker():\n",
        "    try:\n",
        "        raise ValueError(\"An error occurred!\")\n",
        "    except ValueError as e:\n",
        "        print(f\"Handled in thread: {e}\")\n",
        "\n",
        "thread = threading.Thread(target=worker)\n",
        "thread.start()\n",
        "thread.join()\n"
      ],
      "metadata": {
        "colab": {
          "base_uri": "https://localhost:8080/"
        },
        "id": "zjY8fQI_Ipqk",
        "outputId": "6049b31e-6378-4661-c44d-9eb12ca60ac2"
      },
      "execution_count": 11,
      "outputs": [
        {
          "output_type": "stream",
          "name": "stdout",
          "text": [
            "Handled in thread: An error occurred!\n"
          ]
        }
      ]
    },
    {
      "cell_type": "code",
      "source": [
        "# Example of  Exception Propagation ---> Thread-Level Exception Propagation technique by using queue :-\n",
        "\n",
        "\n",
        "# Importing queue and threading\n",
        "import threading\n",
        "import queue\n",
        "\n",
        "\n",
        "# Created def function\n",
        "def worker(q):\n",
        "    try:\n",
        "        raise ValueError(\"An error occurred!\")\n",
        "    except Exception as e:\n",
        "        q.put(e)\n",
        "\n",
        "q = queue.Queue()\n",
        "thread = threading.Thread(target=worker, args=(q,))\n",
        "thread.start()\n",
        "thread.join()\n",
        "\n",
        "# Here, it will check for any exception from the worker\n",
        "while not q.empty():\n",
        "    print(f\"Handled in main thread: {q.get()}\")\n"
      ],
      "metadata": {
        "colab": {
          "base_uri": "https://localhost:8080/"
        },
        "id": "E8l1P5_SMIkN",
        "outputId": "d6635bb2-f6ff-4ea1-9aa8-79aed987a6e5"
      },
      "execution_count": 12,
      "outputs": [
        {
          "output_type": "stream",
          "name": "stdout",
          "text": [
            "Handled in main thread: An error occurred!\n"
          ]
        }
      ]
    },
    {
      "cell_type": "code",
      "source": [
        "# Example of using concurrent.futures technique by using queue :-\n",
        "\n",
        "\n",
        "# Importing ThreadPoolExecutor from concurrent.futures\n",
        "from concurrent.futures import ThreadPoolExecutor\n",
        "\n",
        "\n",
        "# Created def function :-\n",
        "def worker():\n",
        "    raise ValueError(\"An error occurred!\")\n",
        "\n",
        "with ThreadPoolExecutor(max_workers=1) as executor:\n",
        "    future = executor.submit(worker)\n",
        "    try:\n",
        "        future.result()  # This will raise the exception if any\n",
        "    except ValueError as e:\n",
        "        print(f\"Handled with futures: {e}\")\n"
      ],
      "metadata": {
        "colab": {
          "base_uri": "https://localhost:8080/"
        },
        "id": "uxZGvslRMkJY",
        "outputId": "2dc50975-19b1-4ae0-a871-e1dbb1b20091"
      },
      "execution_count": 13,
      "outputs": [
        {
          "output_type": "stream",
          "name": "stdout",
          "text": [
            "Handled with futures: An error occurred!\n"
          ]
        }
      ]
    },
    {
      "cell_type": "code",
      "source": [
        "# Example of Process-Level Handling ----> Using multiprocessing technique by using queue :-\n",
        "\n",
        "\n",
        "# Importing process and queue from multiprocessing\n",
        "from multiprocessing import Process, Queue\n",
        "\n",
        "\n",
        "# Created def function :-\n",
        "def worker(q):\n",
        "    try:\n",
        "        raise ValueError(\"An error occurred!!\")\n",
        "    except Exception as e:\n",
        "        q.put(e)\n",
        "\n",
        "q = Queue()\n",
        "process = Process(target=worker, args=(q,))\n",
        "process.start()\n",
        "process.join()\n",
        "\n",
        "# Here, it check for any exception from the process :-\n",
        "while not q.empty():\n",
        "    print(f\"Handled in main process: {q.get()}\")\n"
      ],
      "metadata": {
        "colab": {
          "base_uri": "https://localhost:8080/"
        },
        "id": "6PUTK9UBNDNI",
        "outputId": "d86ace66-d825-4915-c0ae-d88c5bec3083"
      },
      "execution_count": 14,
      "outputs": [
        {
          "output_type": "stream",
          "name": "stdout",
          "text": [
            "Handled in main process: An error occurred!!\n"
          ]
        }
      ]
    },
    {
      "cell_type": "markdown",
      "source": [
        "# Q7) Create a program that uses a thread pool to calculate the factorial of numbers from 1 to 10 concurrently. Use concurrent.futures.ThreadPoolExecutor to manage the threads."
      ],
      "metadata": {
        "id": "7WK78ZVzNlSM"
      }
    },
    {
      "cell_type": "code",
      "source": [
        "# Creating a code :-\n",
        "\n",
        "\n",
        "# Importing concurrent.futures and math\n",
        "import concurrent.futures\n",
        "import math\n",
        "\n",
        "def factorial(n):\n",
        "    # Here, it Calculate the factorial of a given number.\n",
        "    return math.factorial(n)\n",
        "\n",
        "def main():\n",
        "    # Here, giving the numbers range from 1 to 10\n",
        "    numbers = range(1, 11)\n",
        "\n",
        "    with concurrent.futures.ThreadPoolExecutor() as executor:\n",
        "        futures = {executor.submit(factorial, number): number for number in numbers}\n",
        "\n",
        "        for future in concurrent.futures.as_completed(futures):\n",
        "            number = futures[future]\n",
        "            try:\n",
        "                result = future.result()\n",
        "                print(f'{number}! = {result}')\n",
        "            except Exception as e:\n",
        "                print(f'Error computing factorial for {number}: {e}')\n",
        "\n",
        "if __name__ == \"__main__\":\n",
        "    main()\n"
      ],
      "metadata": {
        "colab": {
          "base_uri": "https://localhost:8080/"
        },
        "id": "9Y3ev2LROdPV",
        "outputId": "1189d3d9-aa32-454b-bf89-6191fb81605c"
      },
      "execution_count": 15,
      "outputs": [
        {
          "output_type": "stream",
          "name": "stdout",
          "text": [
            "10! = 3628800\n",
            "4! = 24\n",
            "5! = 120\n",
            "2! = 2\n",
            "6! = 720\n",
            "1! = 1\n",
            "9! = 362880\n",
            "7! = 5040\n",
            "3! = 6\n",
            "8! = 40320\n"
          ]
        }
      ]
    },
    {
      "cell_type": "markdown",
      "source": [
        "# Q8) Create a Python program that uses multiprocessing.Pool to compute the square of numbers from 1 to 10 in parallel. Measure the time taken to perform this computation using a pool of different sizes (e.g., 2, 4, 8 processes)."
      ],
      "metadata": {
        "id": "YyUiQ4mmO9Zi"
      }
    },
    {
      "cell_type": "code",
      "source": [
        "# Creating code :-\n",
        "\n",
        "\n",
        "# Importig multiprocessing and time to perform the task :-\n",
        "import multiprocessing\n",
        "import time\n",
        "\n",
        "\n",
        "# Created a def function for the square of given numbers :-\n",
        "def square(n):\n",
        "    return n * n\n",
        "\n",
        "\n",
        "# Again created a def function for measure time of the pool size\n",
        "def measure_time(pool_size):\n",
        "    start_time = time.time()  # Start time\n",
        "    with multiprocessing.Pool(processes=pool_size) as pool:  # Using multiprocessing.Pool to create pool here,\n",
        "        results = pool.map(square, range(1, 11))\n",
        "    end_time = time.time()\n",
        "\n",
        "    print(f\"Pool size: {pool_size}, Time taken: {end_time - start_time:.4f} seconds\")\n",
        "    print(f\"Results: {results}\")\n",
        "\n",
        "\n",
        "# Created again def function for main task where there are some number mentioned for size to measure :-\n",
        "def main():\n",
        "    for size in [2, 4, 8]:\n",
        "        measure_time(size)\n",
        "\n",
        "if __name__ == '__main__':\n",
        "    main()\n"
      ],
      "metadata": {
        "colab": {
          "base_uri": "https://localhost:8080/"
        },
        "id": "zuvvG0qWPnhe",
        "outputId": "efd9a539-bed1-41cc-fb3f-511ae5247186"
      },
      "execution_count": 18,
      "outputs": [
        {
          "output_type": "stream",
          "name": "stdout",
          "text": [
            "Pool size: 2, Time taken: 0.0290 seconds\n",
            "Results: [1, 4, 9, 16, 25, 36, 49, 64, 81, 100]\n",
            "Pool size: 4, Time taken: 0.0494 seconds\n",
            "Results: [1, 4, 9, 16, 25, 36, 49, 64, 81, 100]\n",
            "Pool size: 8, Time taken: 0.0910 seconds\n",
            "Results: [1, 4, 9, 16, 25, 36, 49, 64, 81, 100]\n"
          ]
        }
      ]
    },
    {
      "cell_type": "code",
      "source": [],
      "metadata": {
        "id": "Slv2vEAmP8Ff"
      },
      "execution_count": null,
      "outputs": []
    }
  ]
}